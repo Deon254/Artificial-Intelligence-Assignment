{
 "cells": [
  {
   "cell_type": "code",
   "execution_count": null,
   "metadata": {},
   "outputs": [],
   "source": [
    "import os"
   ]
  },
  {
   "cell_type": "code",
   "execution_count": null,
   "metadata": {},
   "outputs": [],
   "source": [
    "import networkx as nx\n",
    "import matplotlib.pyplot as plt"
   ]
  },
  {
   "cell_type": "code",
   "execution_count": null,
   "metadata": {},
   "outputs": [],
   "source": [
    "from directories.gbfs import GBfsTraverser\n"
   ]
  },
  {
   "cell_type": "code",
   "execution_count": null,
   "metadata": {},
   "outputs": [],
   "source": [
    "\n",
    "G = nx.Graph()\n",
    "nodes=[\"SportsComplex\",\"Siwaka\",\"Phase.1A\",\"Phase.1B\",\"Phase2\",\"STC\",\"Phase3\",\"J1\",\"Mada\",\"ParkingLot\"]\n",
    "G.add_nodes_from(nodes)\n",
    "G.nodes()#confirm  the nodes\n",
    "G.add_edge(\"SportsComplex\",\"Siwaka\" ,distance=450)\n",
    "G.add_edge(\"Siwaka\",\"Phase.1A\",distance=10)\n",
    "G.add_edge(\"Siwaka\",\"Phase.1B\",distance=230)\n",
    "G.add_edge(\"Phase.1A\",\"Phase.1B\",distance=100)\n",
    "G.add_edge(\"Phase.1A\",\"Mada\",distance=850)\n",
    "G.add_edge(\"Phase.1B\",\"Phase2\",distance=112)\n",
    "G.add_edge(\"Phase.1B\",\"STC\",distance=50)\n",
    "G.add_edge(\"STC\",\"Phase2\", distance=50)\n",
    "G.add_edge(\"STC\",\"ParkingLot\",distance=250)\n",
    "G.add_edge(\"Phase2\",\"Phase3\",distance=500)\n",
    "G.add_edge(\"Phase3\",\"ParkingLot\", distance=350)\n",
    "G.add_edge(\"Phase2\",\"J1\", distance=600)\n",
    "G.add_edge(\"J1\",\"Mada\",distance=200)\n",
    "G.add_edge(\"Mada\",\"ParkingLot\", distance=10)\n",
    "\n",
    "G.nodes[\"SportsComplex\"]['pos']=(-15,15)\n",
    "G.nodes[\"Siwaka\"]['pos']=(-10,15)\n",
    "G.nodes[\"Phase.1A\"]['pos']=(0,15)\n",
    "G.nodes[\"Phase.1B\"]['pos']=(0,8)\n",
    "G.nodes[\"Phase2\"]['pos']=(5,8)\n",
    "G.nodes[\"J1\"]['pos']=(10,8)\n",
    "G.nodes[\"Mada\"]['pos']=(18,8)\n",
    "G.nodes[\"STC\"]['pos']=(0,-8)\n",
    "G.nodes[\"Phase3\"]['pos']=(10,-10)\n",
    "G.nodes[\"ParkingLot\"]['pos']=(10,-20)\n",
    "#store all positions in a variable\n"
   ]
  },
  {
   "cell_type": "code",
   "execution_count": null,
   "metadata": {},
   "outputs": [],
   "source": [
    "\n",
    "def getHeuristics(G):\n",
    "    heuristics = {}\n",
    "    __location__ = os.path.realpath(\n",
    "        os.path.join(os.getcwd(), os.path.dirname(__file__)))\n",
    "\n",
    "    f = open(os.path.join(__location__, 'heuristics.txt'))\n",
    "    for i in G.nodes():\n",
    "        node_heuristic_val = f.readline().split()\n",
    "        heuristics[node_heuristic_val[0]] = node_heuristic_val[1]\n",
    "    return heuristics\n",
    "\n",
    "\n",
    "heuristics = getHeuristics(G)\n",
    "node_pos = nx.get_node_attributes(G,'pos')\n",
    "\n",
    "#call BFS to return set of all possible routes to the goal\n",
    "route_bfs = GBfsTraverser()\n",
    "routes = route_bfs.GBFS(G,heuristics,\"SportsComplex\",\"ParkingLot\")\n",
    "\n",
    "\n",
    "route_list = route_bfs.path\n",
    "#color the nodes in the route_bfs\n",
    "node_col = ['darkturquoise' if not node in route_list else 'peru' for node in G.nodes()]\n",
    "peru_colored_edges = list(zip(route_list,route_list[1:]))\n",
    "#color the edges as well\n",
    "#print(peru_colored_edges)\n",
    "edge_col = ['darkturquoise' if not edge in peru_colored_edges else 'peru' for edge in G.edges()]\n",
    "arc_label=nx.get_edge_attributes(G,'label')\n",
    "nx.draw_networkx(G, node_pos,node_color= node_col, node_size=450)\n",
    "nx.draw_networkx_edges(G, node_pos,width=5,edge_color= edge_col)\n",
    "#nx.draw_networkx_edge_labels(G, node_pos,edge_color= edge_col, edge_labels=arc_weight)\n",
    "\n",
    "nx.draw_networkx_edge_labels(G, node_pos, edge_labels=arc_label)\n",
    "#nx.draw_networkx_edge_labels(G, node_pos, edge_labels=arc_weight)\n",
    "nx.draw_networkx_edge_labels(G, node_pos, edge_labels={('SportsComplex','Siwaka'):'UnkRoad450m',\n",
    "   ('Siwaka','Phase.1A'):'SangaleRd10m',('Siwaka','Phase.1B'):'SangaleLink230m',('Phase.1A','Phase.1B'):'ParkingWalkWay100m',('Phase.1B','Phase2'):'KeriRd112m',\n",
    "   ('Phase2','J1'):'KeriRd600m',('J1','Mada'):'SangaleRd200m',('Phase.1A','Mada'):'SRd850m',('Phase.1B','STC'):'KeriRd50m',\n",
    "   ('STC','Phase2'):'STCwalkway50m',('Phase2','Phase3'):'KeriRd500m',('Phase3','ParkingLot'):'HGRd350m',('STC','ParkingLot'):'LibraryWalkWay250m',\n",
    "   ('ParkingLot','Mada'):'LangataRd700m'},font_color='orange',font_size='x-small')\n",
    "plt.axis('off')\n",
    "plt.show()"
   ]
  },
  {
   "cell_type": "code",
   "execution_count": null,
   "metadata": {},
   "outputs": [],
   "source": []
  }
 ],
 "metadata": {
  "kernelspec": {
   "display_name": "Python 3",
   "language": "python",
   "name": "python3"
  },
  "language_info": {
   "codemirror_mode": {
    "name": "ipython",
    "version": 3
   },
   "file_extension": ".py",
   "mimetype": "text/x-python",
   "name": "python",
   "nbconvert_exporter": "python",
   "pygments_lexer": "ipython3",
   "version": "3.8.3"
  }
 },
 "nbformat": 4,
 "nbformat_minor": 4
}
