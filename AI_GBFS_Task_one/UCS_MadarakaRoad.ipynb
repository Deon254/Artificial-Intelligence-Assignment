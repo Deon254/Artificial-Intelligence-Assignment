{
 "cells": [
  {
   "cell_type": "code",
   "execution_count": null,
   "metadata": {},
   "outputs": [],
   "source": [
    "import networkx as nx\n",
    "import matplotlib.pyplot as plt\n",
    "\n",
    "\n",
    "from directories.ucs import Ucs"
   ]
  },
  {
   "cell_type": "code",
   "execution_count": null,
   "metadata": {},
   "outputs": [],
   "source": [
    "\n",
    "G = nx.Graph()\n",
    "nodes=[\"SportsComplex\",\"Siwaka\",\"Phase.1A\",\"Phase.1B\",\"Phase2\",\"STC\",\"Phase3\",\"J1\",\"Mada\",\"ParkingLot\"]\n",
    "G.add_nodes_from(nodes)\n",
    "G.nodes()#confirm  the nodes"
   ]
  },
  {
   "cell_type": "code",
   "execution_count": null,
   "metadata": {},
   "outputs": [],
   "source": [
    "G.add_edge(\"SportsComplex\",\"Siwaka\" ,distance=450)\n",
    "G.add_edge(\"Siwaka\",\"Phase.1A\",distance=10)\n",
    "G.add_edge(\"Siwaka\",\"Phase.1B\",distance=230)\n",
    "G.add_edge(\"Phase.1A\",\"Phase.1B\",distance=100)\n",
    "G.add_edge(\"Phase.1A\",\"Mada\",distance=850)\n",
    "G.add_edge(\"Phase.1B\",\"Phase2\",distance=112)\n",
    "G.add_edge(\"Phase.1B\",\"STC\",distance=50)\n",
    "G.add_edge(\"STC\",\"Phase2\", distance=50)\n",
    "G.add_edge(\"STC\",\"ParkingLot\",distance=250)\n",
    "G.add_edge(\"Phase2\",\"Phase3\",distance=500)\n",
    "G.add_edge(\"Phase3\",\"ParkingLot\", distance=350)\n",
    "G.add_edge(\"Phase2\",\"J1\", distance=600)\n",
    "G.add_edge(\"J1\",\"Mada\",distance=200)\n",
    "G.add_edge(\"Mada\",\"ParkingLot\", distance=10)"
   ]
  },
  {
   "cell_type": "code",
   "execution_count": null,
   "metadata": {},
   "outputs": [],
   "source": [
    "G.add_node(\"SportsComplex\", pos=(-15,15), heuristic=730)\n",
    "G.add_node(\"Siwaka\", pos=(-10,15), heuristic=405)\n",
    "G.add_node(\"Phase.1A\", pos=(0,15), heuristic=380)\n",
    "G.add_node(\"Phase.1B\", pos=(0,8), heuristic=280)\n",
    "G.add_node(\"STC\", pos=(0,-8), heuristic=213)\n",
    "G.add_node(\"Phase2\", pos=(5,8), heuristic=210)\n",
    "G.add_node(\"J1\", pos=(10,8), heuristic=500)\n",
    "G.add_node(\"Mada\", pos=(18,8), heuristic=630)\n",
    "G.add_node(\"Phase3\", pos=(10,-10), heuristic=160)\n",
    "G.add_node(\"ParkingLot\", pos=(10,-20), heuristic=0)"
   ]
  },
  {
   "cell_type": "code",
   "execution_count": null,
   "metadata": {},
   "outputs": [],
   "source": [
    "\n",
    "# store all positions in a variable\n",
    "node_pos = nx.get_node_attributes(G, 'pos')\n",
    "\n",
    "# call BFS to return set of all possible routes to the goal\n",
    "route_gbfs = Ucs()\n",
    "routes = route_gbfs.ucs(G, \"SportsComplex\", \"STC\")\n",
    "print(route_gbfs.visited)\n",
    "route_list = route_gbfs.visited\n",
    "\n",
    "# color the nodes in the route_bfs\n",
    "node_col = ['darkturquoise' if not node in route_list else 'peru' for node in G.nodes()]\n",
    "peru_colored_edges = list(zip(route_list, route_list[1:]))\n",
    "\n",
    "# color the edges as well\n",
    "# print(peru_colored_edges)\n",
    "edge_col = ['darkturquoise' if not edge in peru_colored_edges else 'peru' for edge in G.edges()]\n",
    "arc_weight = nx.get_edge_attributes(G, 'weight')\n",
    "nx.draw_networkx(G, node_pos, node_color=node_col, node_size=450)\n",
    "nx.draw_networkx_edges(G, node_pos, width=2, edge_color=edge_col)\n",
    "# nx.draw_networkx_edge_labels(G, node_pos,edge_color= edge_col, edge_labels=arc_weight)\n",
    "\n",
    "nx.draw_networkx_edge_labels(G, node_pos, edge_labels=arc_weight)\n",
    " #nx.draw_networkx_edge_labels(G, node_pos, edge_labels=arc_weight)\n",
    "nx.draw_networkx_edge_labels(G, node_pos, edge_labels={('SportsComplex','Siwaka'):'UnkRoad450m',\n",
    "   ('Siwaka','Phase.1A'):'SangaleRd10m',('Siwaka','Phase.1B'):'SangaleLink230m',('Phase.1A','Phase.1B'):'ParkingWalkWay100m',('Phase.1B','Phase2'):'KeriRd112m',\n",
    "   ('Phase2','J1'):'KeriRd600m',('J1','Mada'):'SangaleRd200m',('Phase.1A','Mada'):'SRd850m',('Phase.1B','STC'):'KeriRd50m',\n",
    "   ('STC','Phase2'):'STCwalkway50m',('Phase2','Phase3'):'KeriRd500m',('Phase3','ParkingLot'):'HGRd350m',('STC','ParkingLot'):'LibraryWalkWay250m',\n",
    "   ('ParkingLot','Mada'):'LangataRd700m'},font_color='orange',font_size='x-small')\n",
    "plt.axis('off')\n",
    "plt.show()\n"
   ]
  },
  {
   "cell_type": "code",
   "execution_count": null,
   "metadata": {},
   "outputs": [],
   "source": []
  }
 ],
 "metadata": {
  "kernelspec": {
   "display_name": "Python 3",
   "language": "python",
   "name": "python3"
  },
  "language_info": {
   "codemirror_mode": {
    "name": "ipython",
    "version": 3
   },
   "file_extension": ".py",
   "mimetype": "text/x-python",
   "name": "python",
   "nbconvert_exporter": "python",
   "pygments_lexer": "ipython3",
   "version": "3.8.3"
  }
 },
 "nbformat": 4,
 "nbformat_minor": 4
}
